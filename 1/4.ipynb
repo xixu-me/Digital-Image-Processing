{
 "cells": [
  {
   "cell_type": "code",
   "execution_count": null,
   "metadata": {},
   "outputs": [],
   "source": [
    "print(\"hello\" * 3)"
   ]
  },
  {
   "cell_type": "code",
   "execution_count": null,
   "metadata": {},
   "outputs": [],
   "source": [
    "print(\"x = %d, y = %f\" % (2, 3.0))"
   ]
  },
  {
   "cell_type": "code",
   "execution_count": null,
   "metadata": {},
   "outputs": [],
   "source": [
    "x = 3 + 2j\n",
    "y = -1j\n",
    "print(x * y)"
   ]
  },
  {
   "cell_type": "code",
   "execution_count": null,
   "metadata": {},
   "outputs": [],
   "source": [
    "strs = \"abcdefg\"\n",
    "print(strs[0:7:1])\n",
    "print(strs[1:3])\n",
    "print(strs[1:])\n",
    "print(strs[:3])\n",
    "print(strs[:-1])\n",
    "print(strs[-3:-1])\n",
    "print(strs[-3:])\n",
    "print(strs[:])\n",
    "print(strs[::2])\n",
    "print(strs[::-1])"
   ]
  },
  {
   "cell_type": "code",
   "execution_count": null,
   "metadata": {},
   "outputs": [],
   "source": [
    "def minimal(x, y):\n",
    "    if x > y:\n",
    "        print(\"较小值为： \", y)\n",
    "    else:\n",
    "        print(\"较小值为： \", x)\n",
    "\n",
    "\n",
    "a = float(input(\"请输入第一个数据： \"))  # 输入了 5.4\n",
    "b = float(input(\"请输入第二个数据： \"))  # 输入了 6.8\n",
    "minimal(a, b)"
   ]
  }
 ],
 "metadata": {
  "kernelspec": {
   "display_name": "Python 3",
   "language": "python",
   "name": "python3"
  },
  "language_info": {
   "codemirror_mode": {
    "name": "ipython",
    "version": 3
   },
   "file_extension": ".py",
   "mimetype": "text/x-python",
   "name": "python",
   "nbconvert_exporter": "python",
   "pygments_lexer": "ipython3",
   "version": "3.12.3"
  }
 },
 "nbformat": 4,
 "nbformat_minor": 2
}
